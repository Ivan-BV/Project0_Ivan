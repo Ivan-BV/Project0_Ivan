{
 "cells": [
  {
   "cell_type": "markdown",
   "metadata": {},
   "source": [
    "<div style=\"text-align: center;\">\n",
    "  <img src=\"https://github.com/Hack-io-Data/Imagenes/blob/main/01-LogosHackio/logo_celeste@4x.png?raw=true\" alt=\"logo hack(io)\" />\n",
    "</div>"
   ]
  },
  {
   "cell_type": "markdown",
   "metadata": {},
   "source": [
    "####  1. Genera una lista de números del 0 al 4 y luego imprime cada número en la lista usando un `bucle for`. "
   ]
  },
  {
   "cell_type": "code",
   "execution_count": null,
   "metadata": {},
   "outputs": [],
   "source": [
    "lista = (0, 1, 2, 3, 4)\n",
    "for numero in lista:\n",
    "    print(numero)"
   ]
  },
  {
   "cell_type": "markdown",
   "metadata": {},
   "source": [
    "#### 2. Itera sobre una lista de frutas y muestra cada fruta en mayúsculas. \n"
   ]
  },
  {
   "cell_type": "code",
   "execution_count": null,
   "metadata": {},
   "outputs": [],
   "source": [
    "frutas = (\"manzana\", \"platano\", \"pera\", \"mango\", \"kiwi\", \"piña\")\n",
    "\n",
    "for fruta in frutas:\n",
    "    print(fruta.upper())"
   ]
  },
  {
   "cell_type": "markdown",
   "metadata": {},
   "source": [
    "####  3. Genera un bucle while que imprima los números del 0 al 4. \n"
   ]
  },
  {
   "cell_type": "code",
   "execution_count": null,
   "metadata": {},
   "outputs": [],
   "source": [
    "i = 0\n",
    "while i < len(lista):\n",
    "    print(lista[i])\n",
    "    i = i+1"
   ]
  },
  {
   "cell_type": "markdown",
   "metadata": {},
   "source": [
    "#### 4. Genera un bucle del 0 al 9, pero que se detenga en el 5.\n"
   ]
  },
  {
   "cell_type": "code",
   "execution_count": null,
   "metadata": {},
   "outputs": [],
   "source": [
    "i = 0\n",
    "while i <= 9:\n",
    "    if i > 5:\n",
    "        break\n",
    "    else:\n",
    "        print(i)\n",
    "        i = i + 1"
   ]
  },
  {
   "cell_type": "markdown",
   "metadata": {},
   "source": [
    "#### 5. Recorre los números del 0 al 9 e imprime solo los números impares."
   ]
  },
  {
   "cell_type": "code",
   "execution_count": null,
   "metadata": {},
   "outputs": [],
   "source": [
    "i = 0\n",
    "while i <= 9:\n",
    "    if i % 2 == 0:\n",
    "        print(i)\n",
    "    i = i + 1"
   ]
  },
  {
   "cell_type": "markdown",
   "metadata": {},
   "source": [
    "#### 6. Dada la lista `[10, 20, 30, 40, 50]`, calcula la suma de todos los elementos usando un bucle `for`."
   ]
  },
  {
   "cell_type": "code",
   "execution_count": null,
   "metadata": {},
   "outputs": [],
   "source": [
    "lista = [10, 20, 30, 40, 50]\n",
    "suma = 0\n",
    "for numero in lista:\n",
    "    suma = suma + numero\n",
    "print(suma)"
   ]
  },
  {
   "cell_type": "markdown",
   "metadata": {},
   "source": [
    "#### 7. Dada la cadena `\"Hola mundo\"`, cuenta cuántas veces aparecen las vocales (`a`, `e`, `i`, `o`, `u`) usando un bucle `for`.\n"
   ]
  },
  {
   "cell_type": "code",
   "execution_count": null,
   "metadata": {},
   "outputs": [],
   "source": [
    "cadena = \"Hola mundo\"\n",
    "a = 0\n",
    "e = 0\n",
    "i = 0\n",
    "o = 0\n",
    "u = 0\n",
    "\n",
    "for letra in cadena:\n",
    "    if letra == 'a':\n",
    "        a = a + 1\n",
    "    elif letra == 'e':\n",
    "        e = e + 1\n",
    "    elif letra == 'i':\n",
    "        i = i + 1\n",
    "    elif letra == 'o':\n",
    "        o = o + 1\n",
    "    elif letra == 'u':\n",
    "        u = u + 1\n",
    "\n",
    "print(f\"Vocal a: {a}\")\n",
    "print(f\"Vocal e: {e}\")\n",
    "print(f\"Vocal i: {i}\")\n",
    "print(f\"Vocal o: {o}\")\n",
    "print(f\"Vocal u: {u}\")"
   ]
  },
  {
   "cell_type": "markdown",
   "metadata": {},
   "source": [
    "#### 8. Dada la cadena `\"Python\"`, usa un bucle `for` para imprimir los caracteres en orden inverso (`n`, `o`, `h`, `t`, `y`, `P`).\n"
   ]
  },
  {
   "cell_type": "code",
   "execution_count": null,
   "metadata": {},
   "outputs": [],
   "source": [
    "cadena = \"Python\"\n",
    "for i in range(len(cadena)-1, -1, -1):\n",
    "    print(cadena[i])"
   ]
  },
  {
   "cell_type": "markdown",
   "metadata": {},
   "source": [
    "#### 9. Dada la lista `[1, 2, 3, 4, 5]`, multiplica todos sus elementos usando un bucle `for` y almacena los resultados en una lista nueva. \n"
   ]
  },
  {
   "cell_type": "code",
   "execution_count": null,
   "metadata": {},
   "outputs": [],
   "source": [
    "lista = [1, 2, 3, 4, 5]\n",
    "nueva_lista = []\n",
    "multiplicacion = lista[0]\n",
    "for numero in lista:\n",
    "    nueva_lista.append(multiplicacion * numero)\n",
    "    multiplicacion = numero\n",
    "\n",
    "print(nueva_lista)"
   ]
  },
  {
   "cell_type": "markdown",
   "metadata": {},
   "source": [
    "#### 10. Dada la lista `[1, 2, 3, 4, 5, 6, 7, 8, 9, 10]`, utiliza un bucle `for` para contar cuántos números son pares y cuántos son impares."
   ]
  },
  {
   "cell_type": "code",
   "execution_count": null,
   "metadata": {},
   "outputs": [],
   "source": [
    "lista = [1, 2, 3, 4, 5, 6, 7, 8, 9, 10]\n",
    "numeros_pares = 0\n",
    "numeros_impares = 0\n",
    "\n",
    "for numero in lista:\n",
    "    if numero % 2 == 0:\n",
    "        numeros_pares = numeros_pares + 1\n",
    "    else:\n",
    "        numeros_impares = numeros_impares + 1\n",
    "\n",
    "print(f\"Cantidad numeros pares: {numeros_pares}\")\n",
    "print(f\"Cantidad numeros impares: {numeros_impares}\")"
   ]
  },
  {
   "cell_type": "markdown",
   "metadata": {},
   "source": [
    "#### 11. Escribe un programa que solicite al usuario un número entero positivo (`n`) y calcule la suma de todos los números primos menores o iguales a `n`. Utiliza un bucle `for` para iterar sobre cada número y verifica si es primo."
   ]
  },
  {
   "cell_type": "code",
   "execution_count": null,
   "metadata": {},
   "outputs": [],
   "source": [
    "n = int(input())\n",
    "\n",
    "if n > 0:\n",
    "    suma_primos = 0\n",
    "    \n",
    "    for num in range(2, n+1):\n",
    "        es_primo = True\n",
    "        \n",
    "        for i in range(2, int(num**0.5) + 1):\n",
    "            if num % i == 0:\n",
    "                es_primo = False\n",
    "                break\n",
    "        \n",
    "        if es_primo:\n",
    "            suma_primos += num\n",
    "    \n",
    "    print(f\"La suma de todos los números primos menores o iguales a {n} es: {suma_primos}\")\n",
    "else:\n",
    "    print(\"Por favor, ingresa un número entero positivo.\")"
   ]
  },
  {
   "cell_type": "markdown",
   "metadata": {},
   "source": [
    "#### 12. Escribe un programa que solicite al usuario un número entero positivo (`n`) y luego imprima un patrón de asteriscos como el siguiente ejemplo para `n = 5`:\n",
    "```\n",
    "*\n",
    "**\n",
    "***\n",
    "****\n",
    "*****\n",
    "```\n",
    "Utiliza un bucle `for` anidado para controlar la cantidad de asteriscos en cada línea."
   ]
  },
  {
   "cell_type": "code",
   "execution_count": null,
   "metadata": {},
   "outputs": [],
   "source": [
    "n = int(input())\n",
    "\n",
    "for i in range(n+1):\n",
    "    for j in range(i):\n",
    "        print(\"*\", end=\"\")\n",
    "    print(\"\")"
   ]
  },
  {
   "cell_type": "markdown",
   "metadata": {},
   "source": [
    "#### 13. Dado un texto, utiliza un bucle `for` para contar cuántas veces aparece cada palabra en el texto. Ignora mayúsculas/minúsculas y los signos de puntuación."
   ]
  },
  {
   "cell_type": "code",
   "execution_count": 59,
   "metadata": {},
   "outputs": [
    {
     "name": "stdout",
     "output_type": "stream",
     "text": [
      "{'Hola': 1, 'buenas': 2, 'tardes': 2, 'me': 1, 'llamo': 1, 'Ivan': 1, 'y': 1, 'tengo': 1, 'veinticinco': 1, 'años': 1}\n"
     ]
    }
   ],
   "source": [
    "texto = \"Hola buenas tardes, me llamo Ivan y tengo veinticinco años, buenas tardes.\"\n",
    "palabras = {}\n",
    "palabra = \"\"\n",
    "for letra in texto:\n",
    "    if len(letra) > 0 and letra != \" \" and letra != \",\" and letra != \".\" and letra !=\":\" and letra !=\";\":\n",
    "        palabra = palabra + letra\n",
    "    else:\n",
    "        if len(palabra) > 0:\n",
    "            if palabra in palabras:\n",
    "                palabras.update({palabra: palabras.get(palabra) + 1})\n",
    "            else:\n",
    "                palabras.update({palabra: 1})\n",
    "            palabra = \"\"\n",
    "\n",
    "print(palabras)"
   ]
  },
  {
   "cell_type": "markdown",
   "metadata": {},
   "source": [
    "#### 14. Escribe un programa que solicite al usuario dos números enteros positivos (`inicio` y `fin`, donde `inicio <= fin`) y luego calcule la suma de los números pares y la suma de los números impares en ese rango. Utiliza un bucle `for` para iterar sobre cada número y una estructura `if-else` para clasificar y sumar los números pares e impares."
   ]
  },
  {
   "cell_type": "code",
   "execution_count": 8,
   "metadata": {},
   "outputs": [
    {
     "name": "stdout",
     "output_type": "stream",
     "text": [
      "Total de la suma de numeros pares: 30\n",
      "Total de la suma de numeros impares: 35\n"
     ]
    }
   ],
   "source": [
    "inicio = int(input())\n",
    "fin = int(input())\n",
    "suma_pares = 0\n",
    "suma_impares = 0\n",
    "\n",
    "for inicio in range(inicio, fin+1):\n",
    "    if inicio % 2 == 0:\n",
    "        suma_pares += inicio\n",
    "    else:\n",
    "        suma_impares += inicio\n",
    "\n",
    "print(f\"Total de la suma de numeros pares: {suma_pares}\")\n",
    "print(f\"Total de la suma de numeros impares: {suma_impares}\")"
   ]
  },
  {
   "cell_type": "markdown",
   "metadata": {},
   "source": [
    "#### 15. Escribe un programa que solicite al usuario un número entero positivo (`n`) y luego identifique todos los números primos menores o iguales a `n`. Para cada número, imprime si es primo o no usando un bucle `for` y una estructura `if-else` para verificar la condición de primalidad."
   ]
  },
  {
   "cell_type": "code",
   "execution_count": 14,
   "metadata": {},
   "outputs": [
    {
     "name": "stdout",
     "output_type": "stream",
     "text": [
      "0 es primo\n",
      "1 no es primo\n",
      "2 no es primo\n",
      "3 es primo\n",
      "4 no es primo\n",
      "5 no es primo\n",
      "6 es primo\n",
      "7 es primo\n",
      "8 es primo\n",
      "9 es primo\n",
      "10 no es primo\n",
      "11 es primo\n",
      "12 es primo\n",
      "13 es primo\n",
      "14 es primo\n",
      "15 es primo\n",
      "16 es primo\n",
      "17 es primo\n",
      "18 es primo\n",
      "19 es primo\n"
     ]
    }
   ],
   "source": [
    "n = int(input())\n",
    "\n",
    "for i in range(n):\n",
    "    if i > 0 and n % i == 0:\n",
    "        print(f\"{i} no es primo\")\n",
    "    else:\n",
    "        print(f\"{i} es primo\")"
   ]
  },
  {
   "cell_type": "markdown",
   "metadata": {},
   "source": [
    "#### 16.Dada una lista de precios `[100, 200, 300, 400, 500]`, aplica un descuento del 10% a todos los precios mayores a `250`. Imprime la lista actualizada de precios después de aplicar el descuento utilizando un bucle `for`. "
   ]
  },
  {
   "cell_type": "code",
   "execution_count": null,
   "metadata": {},
   "outputs": [],
   "source": [
    "precios = [100, 200, 300, 400, 500]\n",
    "\n",
    "for i in range(len(precios)):\n",
    "    if precios[i] > 250:\n",
    "        precios[i] = precios[i] * 0.9\n",
    "\n",
    "print(\"Lista actualizada de precios:\", precios)"
   ]
  },
  {
   "cell_type": "markdown",
   "metadata": {},
   "source": [
    "#### 17. Dada una lista de calificaciones de estudiantes `[85, 92, 78, 90, 88]`, clasifica a cada estudiante como \"Aprobado\" si la calificación es mayor o igual a `80` y como \"Reprobado\" si es menor a `80`. Imprime el nombre de cada estudiante junto con su estado utilizando un bucle `for` y una estructura `if-else`.\n"
   ]
  },
  {
   "cell_type": "code",
   "execution_count": null,
   "metadata": {},
   "outputs": [],
   "source": [
    "calificaciones = [85, 92, 78, 90, 88]\n",
    "nombres = [\"Estudiante 1\", \"Estudiante 2\", \"Estudiante 3\", \"Estudiante 4\", \"Estudiante 5\"]\n",
    "\n",
    "for i in range(len(calificaciones)):\n",
    "    if calificaciones[i] >= 80:\n",
    "        print(f\"{nombres[i]}: Aprobado\")\n",
    "    else:\n",
    "        print(f\"{nombres[i]}: Reprobado\")\n"
   ]
  },
  {
   "cell_type": "markdown",
   "metadata": {},
   "source": [
    "\n",
    "#### 18. Escribe un programa que solicite al usuario dos números enteros positivos (`inicio`, `fin`) y otro número entero positivo (`divisor`). Encuentra el número más grande en el rango desde `inicio` hasta `fin` que sea divisible por `divisor`. Utiliza un bucle `for` y una estructura `if-else` para verificar y mantener el registro del número más grande divisible por el divisor dado.\n"
   ]
  },
  {
   "cell_type": "code",
   "execution_count": null,
   "metadata": {},
   "outputs": [],
   "source": [
    "inicio = int(input())\n",
    "fin = int(input())\n",
    "divisor = int(input())\n",
    "\n",
    "if inicio > 0 and fin > 0 and divisor > 0:\n",
    "    mayor_divisible = None\n",
    "    \n",
    "    for num in range(fin, inicio - 1, -1):\n",
    "        if num % divisor == 0:\n",
    "            mayor_divisible = num\n",
    "            break\n",
    "    \n",
    "    if mayor_divisible is not None:\n",
    "        print(f\"El número más grande divisible por {divisor} en el rango es: {mayor_divisible}\")\n",
    "    else:\n",
    "        print(f\"No hay números divisibles por {divisor} en el rango.\")\n",
    "else:\n",
    "    print(\"Por favor, ingresa números enteros positivos.\")"
   ]
  }
 ],
 "metadata": {
  "kernelspec": {
   "display_name": "hackio",
   "language": "python",
   "name": "python3"
  },
  "language_info": {
   "codemirror_mode": {
    "name": "ipython",
    "version": 3
   },
   "file_extension": ".py",
   "mimetype": "text/x-python",
   "name": "python",
   "nbconvert_exporter": "python",
   "pygments_lexer": "ipython3",
   "version": "3.12.6"
  }
 },
 "nbformat": 4,
 "nbformat_minor": 2
}
