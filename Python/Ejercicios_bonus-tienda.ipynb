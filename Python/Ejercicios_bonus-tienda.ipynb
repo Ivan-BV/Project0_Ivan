{
 "cells": [
  {
   "cell_type": "markdown",
   "metadata": {},
   "source": [
    "<div style=\"text-align: center;\">\n",
    "  <img src=\"https://github.com/Hack-io-Data/Imagenes/blob/main/01-LogosHackio/logo_celeste@4x.png?raw=true\" alt=\"esquema\" />\n",
    "</div>\n"
   ]
  },
  {
   "cell_type": "markdown",
   "metadata": {},
   "source": [
    "En este ejercicio, se te pedirá que escribas un programa en Python que utilice condicionales para determinar el monto final de una compra en una tienda en línea, después de aplicar un descuento. El programa debe hacer lo siguiente:\n",
    "\n",
    "1. Solicita al usuario que ingrese el precio original de un artículo.\n",
    "\n",
    "2. Pregunta al usuario si tiene un cupón de descuento (respuesta sí o no).\n",
    "\n",
    "3. Si el usuario responde que sí, solicita que ingrese el valor del cupón de descuento.\n",
    "\n",
    "4. Aplica el descuento al precio original del artículo, siempre y cuando el valor del cupón sea válido (es decir, mayor a cero). Por ejemplo, descuento de 15€. \n",
    "\n",
    "5. Muestra el precio final de la compra, teniendo en cuenta el descuento aplicado o sin él. \n",
    "\n",
    "6. Recuerda utilizar estructuras de control de flujo como if, elif y else para llevar a cabo estas acciones en tu programa de Python."
   ]
  },
  {
   "cell_type": "code",
   "execution_count": null,
   "metadata": {},
   "outputs": [],
   "source": [
    "precio_original = float(input(\"Ingresa el precio original del artículo: \"))\n",
    "tiene_cupon = input(\"¿Tienes un cupón de descuento? (sí o no): \").lower()\n",
    "\n",
    "if tiene_cupon == \"sí\" or tiene_cupon == \"si\":\n",
    "    valor_cupon = float(input(\"Ingresa el valor del cupón de descuento: \"))\n",
    "    \n",
    "    if valor_cupon > 0:\n",
    "        precio_final = precio_original - valor_cupon\n",
    "        if precio_final < 0:\n",
    "            precio_final = 0\n",
    "    else:\n",
    "        print(\"El valor del cupón no es válido. No se aplicará ningún descuento.\")\n",
    "        precio_final = precio_original\n",
    "else:\n",
    "    precio_final = precio_original\n",
    "\n",
    "print(f\"El precio final de la compra es: {precio_final:.2f}€\")"
   ]
  },
  {
   "cell_type": "markdown",
   "metadata": {},
   "source": [
    "Modifica el programa anterior para que el usuario ingrese un porcentaje de descuento en lugar de un valor fijo (por ejemplo, 30%). Aplica el descuento en base al porcentaje ingresado."
   ]
  },
  {
   "cell_type": "code",
   "execution_count": null,
   "metadata": {},
   "outputs": [],
   "source": [
    "precio_original = float(input(\"Ingresa el precio original del artículo: \"))\n",
    "tiene_cupon = input(\"¿Tienes un porcentaje de descuento? (sí o no): \").lower()\n",
    "\n",
    "if tiene_cupon == \"sí\" or tiene_cupon == \"si\":\n",
    "    porcentaje_descuento = float(input(\"Ingresa el porcentaje de descuento (por ejemplo, 30 para un 30%): \"))\n",
    "    \n",
    "    if 0 < porcentaje_descuento <= 100:\n",
    "        descuento = (porcentaje_descuento / 100) * precio_original\n",
    "        precio_final = precio_original - descuento\n",
    "    else:\n",
    "        print(\"El porcentaje de descuento no es válido. No se aplicará ningún descuento.\")\n",
    "        precio_final = precio_original\n",
    "else:\n",
    "    precio_final = precio_original\n",
    "\n",
    "print(f\"El precio final de la compra es: {precio_final:.2f}€\")"
   ]
  },
  {
   "cell_type": "markdown",
   "metadata": {},
   "source": [
    "Modifica el programa anterior agregando un límite al descuento, donde el descuento mínimo sea del 5% y el máximo del 50%. Si el usuario ingresa un porcentaje fuera de este rango, notifíquele y aplique el descuento mínimo o máximo según sea el caso."
   ]
  },
  {
   "cell_type": "code",
   "execution_count": null,
   "metadata": {},
   "outputs": [],
   "source": [
    "precio_original = float(input(\"Ingresa el precio original del artículo: \"))\n",
    "tiene_cupon = input(\"¿Tienes un porcentaje de descuento? (sí o no): \").lower()\n",
    "\n",
    "if tiene_cupon == \"sí\" or tiene_cupon == \"si\":\n",
    "    porcentaje_descuento = float(input(\"Ingresa el porcentaje de descuento (por ejemplo, 30 para un 30%): \"))\n",
    "    \n",
    "    if porcentaje_descuento < 5:\n",
    "        print(\"El porcentaje de descuento es menor al mínimo permitido (5%). Se aplicará un descuento del 5%.\")\n",
    "        porcentaje_descuento = 5\n",
    "    elif porcentaje_descuento > 50:\n",
    "        print(\"El porcentaje de descuento es mayor al máximo permitido (50%). Se aplicará un descuento del 50%.\")\n",
    "        porcentaje_descuento = 50\n",
    "    \n",
    "    descuento = (porcentaje_descuento / 100) * precio_original\n",
    "    precio_final = precio_original - descuento\n",
    "else:\n",
    "    precio_final = precio_original\n",
    "\n",
    "print(f\"El precio final de la compra es: {precio_final:.2f}€\")"
   ]
  },
  {
   "cell_type": "markdown",
   "metadata": {},
   "source": [
    "Crea un programa nuevo que permita al usuario ingresar varios artículos, cada uno con su precio original y cupón de descuento. Aplica los descuentos correspondientes a cada producto y muestra el monto total final de la compra."
   ]
  },
  {
   "cell_type": "code",
   "execution_count": null,
   "metadata": {},
   "outputs": [],
   "source": [
    "total_compra = 0\n",
    "continuar = 'sí'\n",
    "\n",
    "while continuar.lower() == 'sí':\n",
    "    precio_original = float(input(\"Ingresa el precio original del artículo: \"))\n",
    "    tiene_cupon = input(\"¿Tienes un porcentaje de descuento? (sí o no): \").lower()\n",
    "\n",
    "    if tiene_cupon == \"sí\" or tiene_cupon == \"si\":\n",
    "        porcentaje_descuento = float(input(\"Ingresa el porcentaje de descuento (por ejemplo, 30 para un 30%): \"))\n",
    "        \n",
    "        if porcentaje_descuento < 5:\n",
    "            print(\"El porcentaje de descuento es menor al mínimo permitido (5%). Se aplicará un descuento del 5%.\")\n",
    "            porcentaje_descuento = 5\n",
    "        elif porcentaje_descuento > 50:\n",
    "            print(\"El porcentaje de descuento es mayor al máximo permitido (50%). Se aplicará un descuento del 50%.\")\n",
    "            porcentaje_descuento = 50\n",
    "        \n",
    "        descuento = (porcentaje_descuento / 100) * precio_original\n",
    "        precio_final = precio_original - descuento\n",
    "    else:\n",
    "        precio_final = precio_original\n",
    "\n",
    "    total_compra += precio_final\n",
    "    continuar = input(\"¿Quieres agregar otro artículo? (sí o no): \")\n",
    "\n",
    "print(f\"El monto total final de la compra es: {total_compra:.2f}€\")\n"
   ]
  },
  {
   "cell_type": "markdown",
   "metadata": {},
   "source": [
    "Crea un nuevo programa que permita aplicar descuentos por categorías. En este caso, nuestra tienda aplicará descuentos en función de la categoría (por ejemplo, electrónica, ropa, juguetes). Pregunta al usuario a que categoría pertenece su producto y aplica el descuento correspondiente a la categoría. Debes solicitar al usuario que ingrese la categoría del articulo y el precio para aplicarle el descuento. "
   ]
  },
  {
   "cell_type": "code",
   "execution_count": null,
   "metadata": {},
   "outputs": [],
   "source": [
    "descuentos = {\n",
    "    \"electrónica\": 10,\n",
    "    \"ropa\": 15,\n",
    "    \"juguetes\": 5,\n",
    "}\n",
    "\n",
    "total_compra = 0\n",
    "continuar = 'sí'\n",
    "\n",
    "while continuar.lower() == 'sí':\n",
    "    categoria = input(\"Ingresa la categoría del artículo (electrónica, ropa, juguetes): \").lower()\n",
    "    precio_original = float(input(\"Ingresa el precio original del artículo: \"))\n",
    "\n",
    "    if categoria in descuentos:\n",
    "        porcentaje_descuento = descuentos[categoria]\n",
    "        descuento = (porcentaje_descuento / 100) * precio_original\n",
    "        precio_final = precio_original - descuento\n",
    "        print(f\"Se aplicó un descuento del {porcentaje_descuento}% a la categoría '{categoria}'.\")\n",
    "    else:\n",
    "        precio_final = precio_original\n",
    "        print(\"Categoría no válida. No se aplicará ningún descuento.\")\n",
    "\n",
    "    total_compra += precio_final\n",
    "    continuar = input(\"¿Quieres agregar otro artículo? (sí o no): \")\n",
    "\n",
    "print(f\"El monto total final de la compra es: {total_compra:.2f}€\")"
   ]
  },
  {
   "cell_type": "markdown",
   "metadata": {},
   "source": [
    "Crea un nuevo programa que aplique descuentos automáticos en función de la fecha actual. Aplica un descuento del 10% en compras realizadas entre lunes y viernes o un descuento del 15% en compras realizadas durante los fines de semana."
   ]
  },
  {
   "cell_type": "code",
   "execution_count": null,
   "metadata": {},
   "outputs": [],
   "source": [
    "import datetime\n",
    "\n",
    "total_compra = 0\n",
    "continuar = 'sí'\n",
    "\n",
    "while continuar.lower() == 'sí':\n",
    "    precio_original = float(input(\"Ingresa el precio original del artículo: \"))\n",
    "    \n",
    "    hoy = datetime.datetime.now()\n",
    "    dia_semana = hoy.strftime(\"%A\")  # Obtiene el nombre del día de la semana\n",
    "\n",
    "    if dia_semana in [\"Saturday\", \"Sunday\"]:\n",
    "        porcentaje_descuento = 15\n",
    "        print(\"Se aplicó un descuento del 15% por ser fin de semana.\")\n",
    "    else:\n",
    "        porcentaje_descuento = 10\n",
    "        print(\"Se aplicó un descuento del 10% por ser día de semana.\")\n",
    "\n",
    "    descuento = (porcentaje_descuento / 100) * precio_original\n",
    "    precio_final = precio_original - descuento\n",
    "\n",
    "    total_compra += precio_final\n",
    "    continuar = input(\"¿Quieres agregar otro artículo? (sí o no): \")\n",
    "\n",
    "print(f\"El monto total final de la compra es: {total_compra:.2f}€\")"
   ]
  },
  {
   "cell_type": "markdown",
   "metadata": {},
   "source": [
    "Crea un programa nuevo que implemente un sistema de membresía donde los usuarios registrados obtengan un descuento adicional del 5%. Solicita al usuario que ingrese su nombre de usuario y contraseña para verificar su membresía y aplique el descuento adicional si corresponde. \n",
    "\n",
    "📝 Nota: Para este ejercicio solo tendremos un usuario registrado. El usuario es `USUARIO` y la contraseña es  `USUARIO123`. \n"
   ]
  },
  {
   "cell_type": "code",
   "execution_count": null,
   "metadata": {},
   "outputs": [],
   "source": [
    "usuario_registrado = \"USUARIO\"\n",
    "contrasena_registrada = \"USUARIO123\"\n",
    "\n",
    "total_compra = 0\n",
    "continuar = 'sí'\n",
    "\n",
    "while continuar.lower() == 'sí':\n",
    "    precio_original = float(input(\"Ingresa el precio original del artículo: \"))\n",
    "    \n",
    "    descuento_adicional = 0\n",
    "\n",
    "    nombre_usuario = input(\"Ingresa tu nombre de usuario: \")\n",
    "    contrasena = input(\"Ingresa tu contraseña: \")\n",
    "\n",
    "    if nombre_usuario == usuario_registrado and contrasena == contrasena_registrada:\n",
    "        descuento_adicional = 5\n",
    "        print(\"Descuento adicional del 5% aplicado por membresía.\")\n",
    "\n",
    "    porcentaje_descuento = 10\n",
    "    descuento = (porcentaje_descuento / 100) * precio_original\n",
    "    if descuento_adicional > 0:\n",
    "        descuento += (descuento_adicional / 100) * precio_original\n",
    "\n",
    "    precio_final = precio_original - descuento\n",
    "    total_compra += precio_final\n",
    "    continuar = input(\"¿Quieres agregar otro artículo? (sí o no): \")\n",
    "\n",
    "print(f\"El monto total final de la compra es: {total_compra:.2f}€\")"
   ]
  },
  {
   "cell_type": "markdown",
   "metadata": {},
   "source": [
    "Crea un nuevo programa que ofrezca un descuento del 10% adicional si el usuario compra más de 5 artículos del mismo tipo. Debes verificar la cantidad de productos comprados y aplicar el descuento adicional si corresponde.\n"
   ]
  },
  {
   "cell_type": "code",
   "execution_count": null,
   "metadata": {},
   "outputs": [],
   "source": [
    "total_compra = 0\n",
    "continuar = 'sí'\n",
    "\n",
    "while continuar.lower() == 'sí':\n",
    "    precio_original = float(input(\"Ingresa el precio original del artículo: \"))\n",
    "    cantidad = int(input(\"Ingresa la cantidad de artículos: \"))\n",
    "    \n",
    "    descuento_adicional = 0\n",
    "\n",
    "    if cantidad > 5:\n",
    "        descuento_adicional = 10\n",
    "        print(\"Se aplicó un descuento adicional del 10% por comprar más de 5 artículos.\")\n",
    "\n",
    "    porcentaje_descuento = 10\n",
    "    descuento = (porcentaje_descuento / 100) * precio_original\n",
    "    precio_final = precio_original - descuento\n",
    "\n",
    "    if descuento_adicional > 0:\n",
    "        descuento_adicional_monto = (descuento_adicional / 100) * precio_final\n",
    "        precio_final -= descuento_adicional_monto\n",
    "\n",
    "    total_compra += precio_final * cantidad\n",
    "    continuar = input(\"¿Quieres agregar otro artículo? (sí o no): \")\n",
    "\n",
    "print(f\"El monto total final de la compra es: {total_compra:.2f}€\")"
   ]
  },
  {
   "cell_type": "markdown",
   "metadata": {},
   "source": [
    "Crea un nuevo programa que ofrezca descuentos progresivos en función del volumen de compra. Aplica un descuento del 5% para compras entre 100€ y 200€, un descuento del 10% para compras entre 200€ y 500€ y un descuento del 15% para compras superiores a 500€."
   ]
  },
  {
   "cell_type": "code",
   "execution_count": null,
   "metadata": {},
   "outputs": [],
   "source": [
    "total_compra = 0\n",
    "continuar = 'sí'\n",
    "\n",
    "while continuar.lower() == 'sí':\n",
    "    precio_original = float(input(\"Ingresa el precio original del artículo: \"))\n",
    "    cantidad = int(input(\"Ingresa la cantidad de artículos: \"))\n",
    "    \n",
    "    precio_final = precio_original * cantidad\n",
    "    total_compra += precio_final\n",
    "\n",
    "    continuar = input(\"¿Quieres agregar otro artículo? (sí o no): \")\n",
    "\n",
    "if total_compra >= 100 and total_compra < 200:\n",
    "    descuento = 5\n",
    "elif total_compra >= 200 and total_compra < 500:\n",
    "    descuento = 10\n",
    "elif total_compra >= 500:\n",
    "    descuento = 15\n",
    "else:\n",
    "    descuento = 0\n",
    "\n",
    "monto_descuento = (descuento / 100) * total_compra\n",
    "total_compra_final = total_compra - monto_descuento\n",
    "\n",
    "print(f\"El monto total de la compra es: {total_compra:.2f}€\")\n",
    "print(f\"Descuento aplicado: {descuento}%\")\n",
    "print(f\"Monto final después de descuento: {total_compra_final:.2f}€\")"
   ]
  },
  {
   "cell_type": "markdown",
   "metadata": {},
   "source": [
    "Crea un nuevo programa que ofrezca un descuento adicional del 3% si el usuario paga con tarjeta de crédito o débito. Solicita al usuario que ingrese el método de pago y el descuento original, por último aplica el descuento si corresponde."
   ]
  },
  {
   "cell_type": "code",
   "execution_count": null,
   "metadata": {},
   "outputs": [],
   "source": [
    "total_compra = 0\n",
    "continuar = 'sí'\n",
    "\n",
    "while continuar.lower() == 'sí':\n",
    "    precio_original = float(input(\"Ingresa el precio original del artículo: \"))\n",
    "    cantidad = int(input(\"Ingresa la cantidad de artículos: \"))\n",
    "    \n",
    "    precio_final = precio_original * cantidad\n",
    "    total_compra += precio_final\n",
    "\n",
    "    continuar = input(\"¿Quieres agregar otro artículo? (sí o no): \")\n",
    "\n",
    "descuento = 0\n",
    "if total_compra >= 100 and total_compra < 200:\n",
    "    descuento = 5\n",
    "elif total_compra >= 200 and total_compra < 500:\n",
    "    descuento = 10\n",
    "elif total_compra >= 500:\n",
    "    descuento = 15\n",
    "\n",
    "monto_descuento = (descuento / 100) * total_compra\n",
    "total_compra -= monto_descuento\n",
    "\n",
    "metodo_pago = input(\"Ingresa el método de pago (efectivo, tarjeta de crédito, tarjeta de débito): \").lower()\n",
    "\n",
    "if metodo_pago in [\"tarjeta de crédito\", \"tarjeta de débito\"]:\n",
    "    descuento_adicional = 3\n",
    "    monto_descuento_adicional = (descuento_adicional / 100) * total_compra\n",
    "    total_compra -= monto_descuento_adicional\n",
    "    print(\"Se aplicó un descuento adicional del 3% por pago con tarjeta.\")\n",
    "\n",
    "print(f\"El monto total de la compra es: {total_compra + monto_descuento + monto_descuento_adicional:.2f}€\")\n",
    "print(f\"Descuento original aplicado: {descuento}%\")\n",
    "print(f\"Monto final después de descuentos: {total_compra:.2f}€\")\n"
   ]
  }
 ],
 "metadata": {
  "kernelspec": {
   "display_name": "hackio",
   "language": "python",
   "name": "python3"
  },
  "language_info": {
   "codemirror_mode": {
    "name": "ipython",
    "version": 3
   },
   "file_extension": ".py",
   "mimetype": "text/x-python",
   "name": "python",
   "nbconvert_exporter": "python",
   "pygments_lexer": "ipython3",
   "version": "3.1.-1"
  }
 },
 "nbformat": 4,
 "nbformat_minor": 2
}
